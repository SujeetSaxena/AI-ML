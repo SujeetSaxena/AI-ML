{
  "nbformat": 4,
  "nbformat_minor": 0,
  "metadata": {
    "colab": {
      "provenance": [],
      "authorship_tag": "ABX9TyPfU5EJX7Np7SX9sIExa1S/",
      "include_colab_link": true
    },
    "kernelspec": {
      "name": "python3",
      "display_name": "Python 3"
    },
    "language_info": {
      "name": "python"
    }
  },
  "cells": [
    {
      "cell_type": "markdown",
      "metadata": {
        "id": "view-in-github",
        "colab_type": "text"
      },
      "source": [
        "<a href=\"https://colab.research.google.com/github/SujeetSaxena/AI-ML/blob/main/Preprocessing_Example.ipynb\" target=\"_parent\"><img src=\"https://colab.research.google.com/assets/colab-badge.svg\" alt=\"Open In Colab\"/></a>"
      ]
    },
    {
      "cell_type": "code",
      "execution_count": 1,
      "metadata": {
        "colab": {
          "base_uri": "https://localhost:8080/"
        },
        "id": "eNmcZEkoDaUd",
        "outputId": "e1b54d2b-4de8-493a-acbc-d2c4736add83"
      },
      "outputs": [
        {
          "output_type": "stream",
          "name": "stdout",
          "text": [
            "Original Dataset:\n",
            "    Age    Salary Category\n",
            "0  25.0   50000.0        A\n",
            "1  30.0   60000.0        B\n",
            "2  35.0       NaN        A\n",
            "3   NaN   80000.0        B\n",
            "4  40.0   90000.0        A\n",
            "5  45.0       NaN        B\n",
            "6   NaN  120000.0        A\n",
            "7  50.0  150000.0        B\n",
            "\n",
            "Dataset after handling missing values:\n",
            "    Age    Salary Category\n",
            "0  25.0   50000.0        A\n",
            "1  30.0   60000.0        B\n",
            "2  35.0   85000.0        A\n",
            "3  37.5   80000.0        B\n",
            "4  40.0   90000.0        A\n",
            "5  45.0   85000.0        B\n",
            "6  37.5  120000.0        A\n",
            "7  50.0  150000.0        B\n",
            "\n",
            "Dataset after encoding categorical data:\n",
            "    Age    Salary  Category_B\n",
            "0  25.0   50000.0         0.0\n",
            "1  30.0   60000.0         1.0\n",
            "2  35.0   85000.0         0.0\n",
            "3  37.5   80000.0         1.0\n",
            "4  40.0   90000.0         0.0\n",
            "5  45.0   85000.0         1.0\n",
            "6  37.5  120000.0         0.0\n",
            "7  50.0  150000.0         1.0\n",
            "\n",
            "Dataset after feature scaling:\n",
            "        Age    Salary  Category_B\n",
            "0 -1.690309 -1.337987         0.0\n",
            "1 -1.014185 -1.003490         1.0\n",
            "2 -0.338062 -0.167248         0.0\n",
            "3  0.000000 -0.334497         1.0\n",
            "4  0.338062  0.000000         0.0\n",
            "5  1.014185 -0.167248         1.0\n",
            "6  0.000000  1.003490         0.0\n",
            "7  1.690309  2.006981         1.0\n",
            "\n",
            "Training Data:\n",
            "        Age    Salary  Category_B\n",
            "0 -1.690309 -1.337987         0.0\n",
            "7  1.690309  2.006981         1.0\n",
            "2 -0.338062 -0.167248         0.0\n",
            "4  0.338062  0.000000         0.0\n",
            "3  0.000000 -0.334497         1.0\n",
            "6  0.000000  1.003490         0.0\n",
            "\n",
            "Testing Data:\n",
            "        Age    Salary  Category_B\n",
            "1 -1.014185 -1.003490         1.0\n",
            "5  1.014185 -0.167248         1.0\n"
          ]
        },
        {
          "output_type": "stream",
          "name": "stderr",
          "text": [
            "<ipython-input-1-c5668dee5a77>:21: FutureWarning: A value is trying to be set on a copy of a DataFrame or Series through chained assignment using an inplace method.\n",
            "The behavior will change in pandas 3.0. This inplace method will never work because the intermediate object on which we are setting values always behaves as a copy.\n",
            "\n",
            "For example, when doing 'df[col].method(value, inplace=True)', try using 'df.method({col: value}, inplace=True)' or df[col] = df[col].method(value) instead, to perform the operation inplace on the original object.\n",
            "\n",
            "\n",
            "  df['Age'].fillna(df['Age'].mean(), inplace=True)  # Replace missing Age with mean\n",
            "<ipython-input-1-c5668dee5a77>:22: FutureWarning: A value is trying to be set on a copy of a DataFrame or Series through chained assignment using an inplace method.\n",
            "The behavior will change in pandas 3.0. This inplace method will never work because the intermediate object on which we are setting values always behaves as a copy.\n",
            "\n",
            "For example, when doing 'df[col].method(value, inplace=True)', try using 'df.method({col: value}, inplace=True)' or df[col] = df[col].method(value) instead, to perform the operation inplace on the original object.\n",
            "\n",
            "\n",
            "  df['Salary'].fillna(df['Salary'].median(), inplace=True)  # Replace missing Salary with median\n"
          ]
        }
      ],
      "source": [
        "# Step 1: Import necessary libraries\n",
        "import pandas as pd\n",
        "import numpy as np\n",
        "from sklearn.model_selection import train_test_split\n",
        "from sklearn.preprocessing import StandardScaler, OneHotEncoder\n",
        "\n",
        "# Step 2: Create a sample dataset\n",
        "data = {\n",
        "    'Age': [25, 30, 35, np.nan, 40, 45, np.nan, 50],\n",
        "    'Salary': [50000, 60000, np.nan, 80000, 90000, np.nan, 120000, 150000],\n",
        "    'Category': ['A', 'B', 'A', 'B', 'A', 'B', 'A', 'B']\n",
        "}\n",
        "\n",
        "df = pd.DataFrame(data)\n",
        "\n",
        "# Display original dataset\n",
        "print(\"Original Dataset:\")\n",
        "print(df)\n",
        "\n",
        "# Step 3: Handle Missing Values\n",
        "df['Age'].fillna(df['Age'].mean(), inplace=True)  # Replace missing Age with mean\n",
        "df['Salary'].fillna(df['Salary'].median(), inplace=True)  # Replace missing Salary with median\n",
        "\n",
        "print(\"\\nDataset after handling missing values:\")\n",
        "print(df)\n",
        "\n",
        "# Step 4: Encode Categorical Data (One-Hot Encoding)\n",
        "encoder = OneHotEncoder(sparse_output=False, drop='first')  # drop='first' to avoid dummy variable trap\n",
        "encoded_categories = encoder.fit_transform(df[['Category']])\n",
        "\n",
        "# Convert encoded data into a DataFrame\n",
        "category_df = pd.DataFrame(encoded_categories, columns=['Category_B'])\n",
        "\n",
        "# Concatenate the encoded category back to the original dataframe (dropping original Category column)\n",
        "df = pd.concat([df.drop(columns=['Category']), category_df], axis=1)\n",
        "\n",
        "print(\"\\nDataset after encoding categorical data:\")\n",
        "print(df)\n",
        "\n",
        "# Step 5: Feature Scaling (Standardization)\n",
        "scaler = StandardScaler()\n",
        "df[['Age', 'Salary']] = scaler.fit_transform(df[['Age', 'Salary']])\n",
        "\n",
        "print(\"\\nDataset after feature scaling:\")\n",
        "print(df)\n",
        "\n",
        "# Step 6: Train-Test Split (80% Training, 20% Testing)\n",
        "train_data, test_data = train_test_split(df, test_size=0.2, random_state=42)\n",
        "\n",
        "print(\"\\nTraining Data:\")\n",
        "print(train_data)\n",
        "print(\"\\nTesting Data:\")\n",
        "print(test_data)\n"
      ]
    }
  ]
}