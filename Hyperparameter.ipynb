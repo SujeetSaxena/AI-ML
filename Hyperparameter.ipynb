{
  "nbformat": 4,
  "nbformat_minor": 0,
  "metadata": {
    "colab": {
      "provenance": [],
      "authorship_tag": "ABX9TyOlN3iYClIE/Z0sLmk30Met",
      "include_colab_link": true
    },
    "kernelspec": {
      "name": "python3",
      "display_name": "Python 3"
    },
    "language_info": {
      "name": "python"
    }
  },
  "cells": [
    {
      "cell_type": "markdown",
      "metadata": {
        "id": "view-in-github",
        "colab_type": "text"
      },
      "source": [
        "<a href=\"https://colab.research.google.com/github/SujeetSaxena/AI-ML/blob/main/Hyperparameter.ipynb\" target=\"_parent\"><img src=\"https://colab.research.google.com/assets/colab-badge.svg\" alt=\"Open In Colab\"/></a>"
      ]
    },
    {
      "cell_type": "code",
      "source": [
        "pip install optuna\n"
      ],
      "metadata": {
        "colab": {
          "base_uri": "https://localhost:8080/"
        },
        "id": "1R5PmAZd2V3L",
        "outputId": "7957b9cb-ccc7-474f-8e47-012557cb81a7"
      },
      "execution_count": 5,
      "outputs": [
        {
          "output_type": "stream",
          "name": "stdout",
          "text": [
            "Requirement already satisfied: optuna in /usr/local/lib/python3.11/dist-packages (4.2.1)\n",
            "Requirement already satisfied: alembic>=1.5.0 in /usr/local/lib/python3.11/dist-packages (from optuna) (1.15.1)\n",
            "Requirement already satisfied: colorlog in /usr/local/lib/python3.11/dist-packages (from optuna) (6.9.0)\n",
            "Requirement already satisfied: numpy in /usr/local/lib/python3.11/dist-packages (from optuna) (1.26.4)\n",
            "Requirement already satisfied: packaging>=20.0 in /usr/local/lib/python3.11/dist-packages (from optuna) (24.2)\n",
            "Requirement already satisfied: sqlalchemy>=1.4.2 in /usr/local/lib/python3.11/dist-packages (from optuna) (2.0.38)\n",
            "Requirement already satisfied: tqdm in /usr/local/lib/python3.11/dist-packages (from optuna) (4.67.1)\n",
            "Requirement already satisfied: PyYAML in /usr/local/lib/python3.11/dist-packages (from optuna) (6.0.2)\n",
            "Requirement already satisfied: Mako in /usr/local/lib/python3.11/dist-packages (from alembic>=1.5.0->optuna) (1.3.9)\n",
            "Requirement already satisfied: typing-extensions>=4.12 in /usr/local/lib/python3.11/dist-packages (from alembic>=1.5.0->optuna) (4.12.2)\n",
            "Requirement already satisfied: greenlet!=0.4.17 in /usr/local/lib/python3.11/dist-packages (from sqlalchemy>=1.4.2->optuna) (3.1.1)\n",
            "Requirement already satisfied: MarkupSafe>=0.9.2 in /usr/local/lib/python3.11/dist-packages (from Mako->alembic>=1.5.0->optuna) (3.0.2)\n"
          ]
        }
      ]
    },
    {
      "cell_type": "code",
      "execution_count": 6,
      "metadata": {
        "colab": {
          "base_uri": "https://localhost:8080/"
        },
        "id": "WD_gb6mF2Rb0",
        "outputId": "8ef5ddc4-6839-4d68-c113-db8c5fa4bb7d"
      },
      "outputs": [
        {
          "output_type": "stream",
          "name": "stderr",
          "text": [
            "[I 2025-03-08 05:48:07,375] A new study created in memory with name: no-name-2b0ad004-62a7-41b0-a25b-620993f5aa84\n",
            "[I 2025-03-08 05:48:07,399] Trial 0 finished with value: 0.9666666666666667 and parameters: {'max_depth': 2, 'min_samples_split': 14}. Best is trial 0 with value: 0.9666666666666667.\n",
            "[I 2025-03-08 05:48:07,410] Trial 1 finished with value: 1.0 and parameters: {'max_depth': 10, 'min_samples_split': 18}. Best is trial 1 with value: 1.0.\n",
            "[I 2025-03-08 05:48:07,417] Trial 2 finished with value: 0.9666666666666667 and parameters: {'max_depth': 2, 'min_samples_split': 2}. Best is trial 1 with value: 1.0.\n",
            "[I 2025-03-08 05:48:07,423] Trial 3 finished with value: 1.0 and parameters: {'max_depth': 6, 'min_samples_split': 4}. Best is trial 1 with value: 1.0.\n",
            "[I 2025-03-08 05:48:07,430] Trial 4 finished with value: 0.9666666666666667 and parameters: {'max_depth': 2, 'min_samples_split': 11}. Best is trial 1 with value: 1.0.\n",
            "[I 2025-03-08 05:48:07,437] Trial 5 finished with value: 1.0 and parameters: {'max_depth': 10, 'min_samples_split': 5}. Best is trial 1 with value: 1.0.\n",
            "[I 2025-03-08 05:48:07,444] Trial 6 finished with value: 1.0 and parameters: {'max_depth': 8, 'min_samples_split': 13}. Best is trial 1 with value: 1.0.\n",
            "[I 2025-03-08 05:48:07,451] Trial 7 finished with value: 1.0 and parameters: {'max_depth': 5, 'min_samples_split': 3}. Best is trial 1 with value: 1.0.\n",
            "[I 2025-03-08 05:48:07,457] Trial 8 finished with value: 0.6333333333333333 and parameters: {'max_depth': 1, 'min_samples_split': 16}. Best is trial 1 with value: 1.0.\n",
            "[I 2025-03-08 05:48:07,463] Trial 9 finished with value: 1.0 and parameters: {'max_depth': 8, 'min_samples_split': 20}. Best is trial 1 with value: 1.0.\n",
            "[I 2025-03-08 05:48:07,490] Trial 10 finished with value: 1.0 and parameters: {'max_depth': 10, 'min_samples_split': 20}. Best is trial 1 with value: 1.0.\n",
            "[I 2025-03-08 05:48:07,513] Trial 11 finished with value: 1.0 and parameters: {'max_depth': 5, 'min_samples_split': 8}. Best is trial 1 with value: 1.0.\n",
            "[I 2025-03-08 05:48:07,536] Trial 12 finished with value: 1.0 and parameters: {'max_depth': 7, 'min_samples_split': 7}. Best is trial 1 with value: 1.0.\n",
            "[I 2025-03-08 05:48:07,558] Trial 13 finished with value: 1.0 and parameters: {'max_depth': 4, 'min_samples_split': 17}. Best is trial 1 with value: 1.0.\n",
            "[I 2025-03-08 05:48:07,582] Trial 14 finished with value: 1.0 and parameters: {'max_depth': 7, 'min_samples_split': 10}. Best is trial 1 with value: 1.0.\n",
            "[I 2025-03-08 05:48:07,603] Trial 15 finished with value: 1.0 and parameters: {'max_depth': 9, 'min_samples_split': 6}. Best is trial 1 with value: 1.0.\n",
            "[I 2025-03-08 05:48:07,624] Trial 16 finished with value: 1.0 and parameters: {'max_depth': 4, 'min_samples_split': 9}. Best is trial 1 with value: 1.0.\n",
            "[I 2025-03-08 05:48:07,646] Trial 17 finished with value: 1.0 and parameters: {'max_depth': 6, 'min_samples_split': 17}. Best is trial 1 with value: 1.0.\n",
            "[I 2025-03-08 05:48:07,667] Trial 18 finished with value: 1.0 and parameters: {'max_depth': 9, 'min_samples_split': 12}. Best is trial 1 with value: 1.0.\n",
            "[I 2025-03-08 05:48:07,688] Trial 19 finished with value: 1.0 and parameters: {'max_depth': 6, 'min_samples_split': 15}. Best is trial 1 with value: 1.0.\n",
            "[I 2025-03-08 05:48:07,710] Trial 20 finished with value: 1.0 and parameters: {'max_depth': 4, 'min_samples_split': 4}. Best is trial 1 with value: 1.0.\n",
            "[I 2025-03-08 05:48:07,733] Trial 21 finished with value: 1.0 and parameters: {'max_depth': 10, 'min_samples_split': 5}. Best is trial 1 with value: 1.0.\n",
            "[I 2025-03-08 05:48:07,756] Trial 22 finished with value: 1.0 and parameters: {'max_depth': 9, 'min_samples_split': 5}. Best is trial 1 with value: 1.0.\n",
            "[I 2025-03-08 05:48:07,777] Trial 23 finished with value: 1.0 and parameters: {'max_depth': 10, 'min_samples_split': 2}. Best is trial 1 with value: 1.0.\n",
            "[I 2025-03-08 05:48:07,798] Trial 24 finished with value: 1.0 and parameters: {'max_depth': 8, 'min_samples_split': 7}. Best is trial 1 with value: 1.0.\n",
            "[I 2025-03-08 05:48:07,819] Trial 25 finished with value: 1.0 and parameters: {'max_depth': 7, 'min_samples_split': 4}. Best is trial 1 with value: 1.0.\n",
            "[I 2025-03-08 05:48:07,840] Trial 26 finished with value: 1.0 and parameters: {'max_depth': 9, 'min_samples_split': 18}. Best is trial 1 with value: 1.0.\n",
            "[I 2025-03-08 05:48:07,861] Trial 27 finished with value: 1.0 and parameters: {'max_depth': 10, 'min_samples_split': 10}. Best is trial 1 with value: 1.0.\n",
            "[I 2025-03-08 05:48:07,882] Trial 28 finished with value: 1.0 and parameters: {'max_depth': 8, 'min_samples_split': 8}. Best is trial 1 with value: 1.0.\n",
            "[I 2025-03-08 05:48:07,905] Trial 29 finished with value: 1.0 and parameters: {'max_depth': 3, 'min_samples_split': 13}. Best is trial 1 with value: 1.0.\n",
            "[I 2025-03-08 05:48:07,927] Trial 30 finished with value: 1.0 and parameters: {'max_depth': 9, 'min_samples_split': 6}. Best is trial 1 with value: 1.0.\n",
            "[I 2025-03-08 05:48:07,952] Trial 31 finished with value: 1.0 and parameters: {'max_depth': 8, 'min_samples_split': 14}. Best is trial 1 with value: 1.0.\n",
            "[I 2025-03-08 05:48:07,977] Trial 32 finished with value: 1.0 and parameters: {'max_depth': 10, 'min_samples_split': 14}. Best is trial 1 with value: 1.0.\n",
            "[I 2025-03-08 05:48:08,015] Trial 33 finished with value: 1.0 and parameters: {'max_depth': 7, 'min_samples_split': 12}. Best is trial 1 with value: 1.0.\n",
            "[I 2025-03-08 05:48:08,047] Trial 34 finished with value: 1.0 and parameters: {'max_depth': 6, 'min_samples_split': 2}. Best is trial 1 with value: 1.0.\n",
            "[I 2025-03-08 05:48:08,078] Trial 35 finished with value: 1.0 and parameters: {'max_depth': 8, 'min_samples_split': 19}. Best is trial 1 with value: 1.0.\n",
            "[I 2025-03-08 05:48:08,110] Trial 36 finished with value: 1.0 and parameters: {'max_depth': 9, 'min_samples_split': 15}. Best is trial 1 with value: 1.0.\n",
            "[I 2025-03-08 05:48:08,141] Trial 37 finished with value: 1.0 and parameters: {'max_depth': 10, 'min_samples_split': 3}. Best is trial 1 with value: 1.0.\n",
            "[I 2025-03-08 05:48:08,171] Trial 38 finished with value: 1.0 and parameters: {'max_depth': 5, 'min_samples_split': 11}. Best is trial 1 with value: 1.0.\n",
            "[I 2025-03-08 05:48:08,197] Trial 39 finished with value: 0.6333333333333333 and parameters: {'max_depth': 1, 'min_samples_split': 18}. Best is trial 1 with value: 1.0.\n",
            "[I 2025-03-08 05:48:08,222] Trial 40 finished with value: 1.0 and parameters: {'max_depth': 7, 'min_samples_split': 16}. Best is trial 1 with value: 1.0.\n",
            "[I 2025-03-08 05:48:08,246] Trial 41 finished with value: 1.0 and parameters: {'max_depth': 5, 'min_samples_split': 3}. Best is trial 1 with value: 1.0.\n",
            "[I 2025-03-08 05:48:08,267] Trial 42 finished with value: 1.0 and parameters: {'max_depth': 3, 'min_samples_split': 4}. Best is trial 1 with value: 1.0.\n",
            "[I 2025-03-08 05:48:08,287] Trial 43 finished with value: 1.0 and parameters: {'max_depth': 5, 'min_samples_split': 3}. Best is trial 1 with value: 1.0.\n",
            "[I 2025-03-08 05:48:08,306] Trial 44 finished with value: 1.0 and parameters: {'max_depth': 6, 'min_samples_split': 6}. Best is trial 1 with value: 1.0.\n",
            "[I 2025-03-08 05:48:08,324] Trial 45 finished with value: 1.0 and parameters: {'max_depth': 3, 'min_samples_split': 8}. Best is trial 1 with value: 1.0.\n",
            "[I 2025-03-08 05:48:08,347] Trial 46 finished with value: 1.0 and parameters: {'max_depth': 4, 'min_samples_split': 20}. Best is trial 1 with value: 1.0.\n",
            "[I 2025-03-08 05:48:08,377] Trial 47 finished with value: 1.0 and parameters: {'max_depth': 7, 'min_samples_split': 5}. Best is trial 1 with value: 1.0.\n",
            "[I 2025-03-08 05:48:08,406] Trial 48 finished with value: 1.0 and parameters: {'max_depth': 8, 'min_samples_split': 9}. Best is trial 1 with value: 1.0.\n",
            "[I 2025-03-08 05:48:08,445] Trial 49 finished with value: 1.0 and parameters: {'max_depth': 10, 'min_samples_split': 7}. Best is trial 1 with value: 1.0.\n"
          ]
        },
        {
          "output_type": "stream",
          "name": "stdout",
          "text": [
            "Best hyperparameters: {'max_depth': 10, 'min_samples_split': 18}\n",
            "Best accuracy: 1.0\n"
          ]
        }
      ],
      "source": [
        "import optuna\n",
        "from sklearn.datasets import load_iris\n",
        "from sklearn.model_selection import train_test_split\n",
        "from sklearn.tree import DecisionTreeClassifier\n",
        "from sklearn.metrics import accuracy_score\n",
        "\n",
        "# Load dataset\n",
        "data = load_iris()\n",
        "X, y = data.data, data.target\n",
        "X_train, X_test, y_train, y_test = train_test_split(X, y, test_size=0.2, random_state=42)\n",
        "\n",
        "# Objective function to optimize\n",
        "def objective(trial):\n",
        "    # Suggest hyperparameters to tune\n",
        "    max_depth = trial.suggest_int('max_depth', 1, 10)  # Integer range\n",
        "    min_samples_split = trial.suggest_int('min_samples_split', 2, 20)\n",
        "\n",
        "    # Train a Decision Tree with suggested hyperparameters\n",
        "    model = DecisionTreeClassifier(max_depth=max_depth, min_samples_split=min_samples_split, random_state=42)\n",
        "    model.fit(X_train, y_train)\n",
        "\n",
        "    # Evaluate the model\n",
        "    y_pred = model.predict(X_test)\n",
        "    accuracy = accuracy_score(y_test, y_pred)\n",
        "\n",
        "    return accuracy  # Optuna will maximize this value\n",
        "\n",
        "# Create and run an Optuna study\n",
        "study = optuna.create_study(direction='maximize')  # 'maximize' for accuracy\n",
        "study.optimize(objective, n_trials=50)  # Run 50 trials\n",
        "\n",
        "# Print the best result\n",
        "print(\"Best hyperparameters:\", study.best_params)\n",
        "print(\"Best accuracy:\", study.best_value)\n"
      ]
    },
    {
      "cell_type": "markdown",
      "source": [
        "Let's look at how Bayesian Optimization can be applied to tune hyperparameters."
      ],
      "metadata": {
        "id": "l2OQX7jy3oxP"
      }
    },
    {
      "cell_type": "code",
      "source": [
        "pip install scikit-optimize\n"
      ],
      "metadata": {
        "colab": {
          "base_uri": "https://localhost:8080/"
        },
        "id": "nNAP7NBc3qCe",
        "outputId": "806d8c09-c527-412e-eb33-5232bfaf8857"
      },
      "execution_count": null,
      "outputs": [
        {
          "output_type": "stream",
          "name": "stdout",
          "text": [
            "Collecting scikit-optimize\n",
            "  Downloading scikit_optimize-0.10.2-py2.py3-none-any.whl.metadata (9.7 kB)\n",
            "Requirement already satisfied: joblib>=0.11 in /usr/local/lib/python3.11/dist-packages (from scikit-optimize) (1.4.2)\n",
            "Collecting pyaml>=16.9 (from scikit-optimize)\n",
            "  Downloading pyaml-25.1.0-py3-none-any.whl.metadata (12 kB)\n",
            "Requirement already satisfied: numpy>=1.20.3 in /usr/local/lib/python3.11/dist-packages (from scikit-optimize) (1.26.4)\n",
            "Requirement already satisfied: scipy>=1.1.0 in /usr/local/lib/python3.11/dist-packages (from scikit-optimize) (1.13.1)\n",
            "Requirement already satisfied: scikit-learn>=1.0.0 in /usr/local/lib/python3.11/dist-packages (from scikit-optimize) (1.6.1)\n",
            "Requirement already satisfied: packaging>=21.3 in /usr/local/lib/python3.11/dist-packages (from scikit-optimize) (24.2)\n",
            "Requirement already satisfied: PyYAML in /usr/local/lib/python3.11/dist-packages (from pyaml>=16.9->scikit-optimize) (6.0.2)\n",
            "Requirement already satisfied: threadpoolctl>=3.1.0 in /usr/local/lib/python3.11/dist-packages (from scikit-learn>=1.0.0->scikit-optimize) (3.5.0)\n",
            "Downloading scikit_optimize-0.10.2-py2.py3-none-any.whl (107 kB)\n",
            "\u001b[2K   \u001b[90m━━━━━━━━━━━━━━━━━━━━━━━━━━━━━━━━━━━━━━━━\u001b[0m \u001b[32m107.8/107.8 kB\u001b[0m \u001b[31m2.7 MB/s\u001b[0m eta \u001b[36m0:00:00\u001b[0m\n",
            "\u001b[?25hDownloading pyaml-25.1.0-py3-none-any.whl (26 kB)\n",
            "Installing collected packages: pyaml, scikit-optimize\n",
            "Successfully installed pyaml-25.1.0 scikit-optimize-0.10.2\n"
          ]
        }
      ]
    },
    {
      "cell_type": "code",
      "source": [
        "from skopt import gp_minimize\n",
        "from skopt.space import Integer\n",
        "from sklearn.datasets import load_iris\n",
        "from sklearn.model_selection import train_test_split\n",
        "from sklearn.tree import DecisionTreeClassifier\n",
        "from sklearn.metrics import accuracy_score\n",
        "\n",
        "# Load dataset\n",
        "data = load_iris()\n",
        "X, y = data.data, data.target\n",
        "X_train, X_test, y_train, y_test = train_test_split(X, y, test_size=0.2, random_state=42)\n",
        "\n",
        "# Define the objective function to minimize (Bayesian optimization minimizes by default)\n",
        "def objective(params):\n",
        "    max_depth, min_samples_split = params\n",
        "\n",
        "    # Train a Decision Tree with the hyperparameters\n",
        "    model = DecisionTreeClassifier(max_depth=max_depth, min_samples_split=min_samples_split, random_state=42)\n",
        "    model.fit(X_train, y_train)\n",
        "\n",
        "    # Evaluate the model\n",
        "    y_pred = model.predict(X_test)\n",
        "    accuracy = accuracy_score(y_test, y_pred)\n",
        "\n",
        "    # Return the negative accuracy (since we want to minimize)\n",
        "    return -accuracy\n",
        "\n",
        "# Define the search space\n",
        "space = [\n",
        "    Integer(1, 10, name='max_depth'),          # Integer range for max_depth\n",
        "    Integer(2, 20, name='min_samples_split')   # Integer range for min_samples_split\n",
        "]\n",
        "\n",
        "# Run Bayesian Optimization\n",
        "res = gp_minimize(objective, space, n_calls=50, random_state=42)\n",
        "\n",
        "# Print the best results\n",
        "print(\"Best hyperparameters:\")\n",
        "print(\"max_depth:\", res.x[0])\n",
        "print(\"min_samples_split:\", res.x[1])\n",
        "print(\"Best accuracy:\", -res.fun)\n"
      ],
      "metadata": {
        "colab": {
          "base_uri": "https://localhost:8080/"
        },
        "id": "bMvdMXTi32zA",
        "outputId": "ad96faa4-07d6-4492-ea38-9bb32350de54"
      },
      "execution_count": null,
      "outputs": [
        {
          "output_type": "stream",
          "name": "stderr",
          "text": [
            "/usr/local/lib/python3.11/dist-packages/skopt/optimizer/optimizer.py:517: UserWarning: The objective has been evaluated at point [7, 2] before, using random point [10, 11]\n",
            "  warnings.warn(\n",
            "/usr/local/lib/python3.11/dist-packages/skopt/optimizer/optimizer.py:517: UserWarning: The objective has been evaluated at point [9, 2] before, using random point [5, 12]\n",
            "  warnings.warn(\n",
            "/usr/local/lib/python3.11/dist-packages/skopt/optimizer/optimizer.py:517: UserWarning: The objective has been evaluated at point [9, 20] before, using random point [5, 8]\n",
            "  warnings.warn(\n",
            "/usr/local/lib/python3.11/dist-packages/skopt/optimizer/optimizer.py:517: UserWarning: The objective has been evaluated at point [9, 20] before, using random point [5, 20]\n",
            "  warnings.warn(\n",
            "/usr/local/lib/python3.11/dist-packages/skopt/optimizer/optimizer.py:517: UserWarning: The objective has been evaluated at point [9, 2] before, using random point [7, 11]\n",
            "  warnings.warn(\n",
            "/usr/local/lib/python3.11/dist-packages/skopt/optimizer/optimizer.py:517: UserWarning: The objective has been evaluated at point [5, 12] before, using random point [8, 7]\n",
            "  warnings.warn(\n",
            "/usr/local/lib/python3.11/dist-packages/skopt/optimizer/optimizer.py:517: UserWarning: The objective has been evaluated at point [8, 20] before, using random point [2, 12]\n",
            "  warnings.warn(\n"
          ]
        },
        {
          "output_type": "stream",
          "name": "stdout",
          "text": [
            "Best hyperparameters:\n",
            "max_depth: 8\n",
            "min_samples_split: 5\n",
            "Best accuracy: 1.0\n"
          ]
        }
      ]
    }
  ]
}