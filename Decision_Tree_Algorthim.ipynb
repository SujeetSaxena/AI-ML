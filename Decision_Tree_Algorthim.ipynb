{
  "nbformat": 4,
  "nbformat_minor": 0,
  "metadata": {
    "colab": {
      "provenance": [],
      "authorship_tag": "ABX9TyMKTdxJA/qqJbDHtCXzymrq",
      "include_colab_link": true
    },
    "kernelspec": {
      "name": "python3",
      "display_name": "Python 3"
    },
    "language_info": {
      "name": "python"
    }
  },
  "cells": [
    {
      "cell_type": "markdown",
      "metadata": {
        "id": "view-in-github",
        "colab_type": "text"
      },
      "source": [
        "<a href=\"https://colab.research.google.com/github/SujeetSaxena/AI-ML/blob/main/Decision_Tree_Algorthim.ipynb\" target=\"_parent\"><img src=\"https://colab.research.google.com/assets/colab-badge.svg\" alt=\"Open In Colab\"/></a>"
      ]
    },
    {
      "cell_type": "code",
      "execution_count": 1,
      "metadata": {
        "colab": {
          "base_uri": "https://localhost:8080/"
        },
        "id": "6_403OrGuwk_",
        "outputId": "9b7cf756-06c2-48da-f2ed-6f3bb087c72b"
      },
      "outputs": [
        {
          "output_type": "stream",
          "name": "stdout",
          "text": [
            "Model Accuracy: 100.00%\n",
            "|--- Income <= 67500.00\n",
            "|   |--- class: 1\n",
            "|--- Income >  67500.00\n",
            "|   |--- class: 0\n",
            "\n",
            "Will the customer purchase? Yes\n"
          ]
        },
        {
          "output_type": "stream",
          "name": "stderr",
          "text": [
            "/usr/local/lib/python3.11/dist-packages/sklearn/utils/validation.py:2739: UserWarning: X does not have valid feature names, but DecisionTreeClassifier was fitted with feature names\n",
            "  warnings.warn(\n"
          ]
        }
      ],
      "source": [
        "# Import necessary libraries\n",
        "from sklearn.tree import DecisionTreeClassifier, export_text\n",
        "from sklearn.model_selection import train_test_split\n",
        "from sklearn.metrics import accuracy_score\n",
        "import pandas as pd\n",
        "# Sample dataset\n",
        "data = {\n",
        "    \"Age\": [25, 45, 35, 50, 23, 40, 33, 47, 28, 38],\n",
        "    \"Income\": [50000, 80000, 60000, 120000, 30000, 70000, 65000, 90000, 45000, 75000],\n",
        "    \"Browsing_Time\": [10, 2, 5, 1, 12, 3, 7, 2, 8, 4],\n",
        "    \"Purchased\": [1, 0, 1, 0, 1, 0, 1, 0, 1, 0]  # 1: Purchased, 0: Not Purchased\n",
        "}\n",
        "# Convert to DataFrame\n",
        "df = pd.DataFrame(data)\n",
        "# Define features (X) and target variable (y)\n",
        "X = df.drop(columns=[\"Purchased\"])  # Independent variables\n",
        "y = df[\"Purchased\"]  # Target variable\n",
        "# Split dataset into training and testing sets (80% training, 20% testing)\n",
        "X_train, X_test, y_train, y_test = train_test_split(X, y, test_size=0.2, random_state=42)\n",
        "# Create and train the Decision Tree model\n",
        "model = DecisionTreeClassifier(criterion=\"gini\", max_depth=3, random_state=42)\n",
        "model.fit(X_train, y_train)\n",
        "# Make predictions\n",
        "y_pred = model.predict(X_test)\n",
        "# Evaluate the model\n",
        "accuracy = accuracy_score(y_test, y_pred)\n",
        "print(f\"Model Accuracy: {accuracy * 100:.2f}%\")\n",
        "\n",
        "# Display the decision tree rules\n",
        "tree_rules = export_text(model, feature_names=list(X.columns))\n",
        "print(tree_rules)\n",
        "\n",
        "# Predict for a new customer: Age=30, Income=55000, Browsing Time=8\n",
        "new_customer = [[30, 55000, 8]]\n",
        "prediction = model.predict(new_customer)\n",
        "print(\"Will the customer purchase?\", \"Yes\" if prediction[0] == 1 else \"No\")\n",
        "\n"
      ]
    }
  ]
}