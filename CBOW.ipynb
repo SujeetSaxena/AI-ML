{
  "nbformat": 4,
  "nbformat_minor": 0,
  "metadata": {
    "colab": {
      "provenance": [],
      "authorship_tag": "ABX9TyNjuEjSPZ4IDlak1prWydqm",
      "include_colab_link": true
    },
    "kernelspec": {
      "name": "python3",
      "display_name": "Python 3"
    },
    "language_info": {
      "name": "python"
    }
  },
  "cells": [
    {
      "cell_type": "markdown",
      "metadata": {
        "id": "view-in-github",
        "colab_type": "text"
      },
      "source": [
        "<a href=\"https://colab.research.google.com/github/SujeetSaxena/AI-ML/blob/main/CBOW.ipynb\" target=\"_parent\"><img src=\"https://colab.research.google.com/assets/colab-badge.svg\" alt=\"Open In Colab\"/></a>"
      ]
    },
    {
      "cell_type": "code",
      "execution_count": 4,
      "metadata": {
        "colab": {
          "base_uri": "https://localhost:8080/"
        },
        "id": "BstaGR9LZ1Xq",
        "outputId": "a81d8319-d4b4-4e83-bd80-8da968f2ce52"
      },
      "outputs": [
        {
          "output_type": "stream",
          "name": "stdout",
          "text": [
            "Requirement already satisfied: gensim in /usr/local/lib/python3.11/dist-packages (4.3.3)\n",
            "Requirement already satisfied: numpy<2.0,>=1.18.5 in /usr/local/lib/python3.11/dist-packages (from gensim) (1.26.4)\n",
            "Requirement already satisfied: scipy<1.14.0,>=1.7.0 in /usr/local/lib/python3.11/dist-packages (from gensim) (1.13.1)\n",
            "Requirement already satisfied: smart-open>=1.8.1 in /usr/local/lib/python3.11/dist-packages (from gensim) (7.1.0)\n",
            "Requirement already satisfied: wrapt in /usr/local/lib/python3.11/dist-packages (from smart-open>=1.8.1->gensim) (1.17.2)\n"
          ]
        }
      ],
      "source": [
        "\n",
        "pip install gensim\n"
      ]
    },
    {
      "cell_type": "code",
      "source": [
        "# Import necessary libraries\n",
        "import numpy as np\n",
        "import tensorflow as tf\n",
        "from tensorflow.keras.preprocessing.text import Tokenizer\n",
        "from tensorflow.keras.preprocessing.sequence import pad_sequences\n",
        "from tensorflow.keras.models import Sequential\n",
        "from tensorflow.keras.layers import Embedding, Dense, Lambda\n",
        "from tensorflow.keras.utils import to_categorical\n",
        "import tensorflow.keras.backend as K\n",
        "\n",
        "# Sample data\n",
        "sentences = [\n",
        "    \"the quick brown fox jumped over the lazy dog\",\n",
        "    \"I love machine learning\",\n",
        "    \"deep learning is a subset of machine learning\"\n",
        "]\n",
        "\n",
        "# Tokenize the sentences\n",
        "tokenizer = Tokenizer()\n",
        "tokenizer.fit_on_texts(sentences)\n",
        "word_index = tokenizer.word_index\n",
        "vocab_size = len(word_index) + 1\n",
        "sequences = tokenizer.texts_to_sequences(sentences)\n",
        "\n",
        "# Generate CBOW data\n",
        "def generate_cbow_data(sequences, window_size):\n",
        "    context_target_pairs = []\n",
        "    for sequence in sequences:\n",
        "        for i in range(window_size, len(sequence) - window_size):\n",
        "            context = sequence[i - window_size:i] + sequence[i + 1:i + window_size + 1]\n",
        "            target = sequence[i]\n",
        "            context_target_pairs.append((context, target))\n",
        "    return context_target_pairs\n",
        "\n",
        "window_size = 2\n",
        "context_target_pairs = generate_cbow_data(sequences, window_size)\n",
        "\n",
        "# Prepare data for training\n",
        "def prepare_data(context_target_pairs, vocab_size):\n",
        "    contexts, targets = zip(*context_target_pairs)\n",
        "    contexts = np.array(contexts)\n",
        "    targets = to_categorical(targets, vocab_size)\n",
        "    return contexts, targets\n",
        "\n",
        "contexts, targets = prepare_data(context_target_pairs, vocab_size)\n",
        "\n",
        "# Build the CBOW model\n",
        "embedding_dim = 50\n",
        "model = Sequential([\n",
        "    Embedding(input_dim=vocab_size, output_dim=embedding_dim, input_length=2 * window_size),\n",
        "    Lambda(lambda x: K.mean(x, axis=1)),\n",
        "    Dense(vocab_size, activation='softmax')\n",
        "])\n",
        "\n",
        "model.compile(optimizer='adam', loss='categorical_crossentropy', metrics=['accuracy'])\n",
        "model.summary()\n",
        "\n",
        "# Train the model\n",
        "model.fit(contexts, targets, epochs=100, verbose=2)\n",
        "\n",
        "# Get the word embeddings\n",
        "embeddings = model.get_layer('embedding').get_weights()[0]\n",
        "\n",
        "# Print the embedding for a specific word\n",
        "word = \"learning\"\n",
        "word_idx = word_index[word]\n",
        "print(f\"Embedding for '{word}': {embeddings[word_idx]}\")\n"
      ],
      "metadata": {
        "colab": {
          "base_uri": "https://localhost:8080/",
          "height": 1000
        },
        "id": "rnYFbs1Bb9sN",
        "outputId": "446b1a68-f148-4aff-f2dc-bdd6c1bdbeb3"
      },
      "execution_count": 10,
      "outputs": [
        {
          "output_type": "display_data",
          "data": {
            "text/plain": [
              "\u001b[1mModel: \"sequential\"\u001b[0m\n"
            ],
            "text/html": [
              "<pre style=\"white-space:pre;overflow-x:auto;line-height:normal;font-family:Menlo,'DejaVu Sans Mono',consolas,'Courier New',monospace\"><span style=\"font-weight: bold\">Model: \"sequential\"</span>\n",
              "</pre>\n"
            ]
          },
          "metadata": {}
        },
        {
          "output_type": "display_data",
          "data": {
            "text/plain": [
              "┏━━━━━━━━━━━━━━━━━━━━━━━━━━━━━━━━━━━━━━┳━━━━━━━━━━━━━━━━━━━━━━━━━━━━━┳━━━━━━━━━━━━━━━━━┓\n",
              "┃\u001b[1m \u001b[0m\u001b[1mLayer (type)                        \u001b[0m\u001b[1m \u001b[0m┃\u001b[1m \u001b[0m\u001b[1mOutput Shape               \u001b[0m\u001b[1m \u001b[0m┃\u001b[1m \u001b[0m\u001b[1m        Param #\u001b[0m\u001b[1m \u001b[0m┃\n",
              "┡━━━━━━━━━━━━━━━━━━━━━━━━━━━━━━━━━━━━━━╇━━━━━━━━━━━━━━━━━━━━━━━━━━━━━╇━━━━━━━━━━━━━━━━━┩\n",
              "│ embedding (\u001b[38;5;33mEmbedding\u001b[0m)                │ ?                           │     \u001b[38;5;34m0\u001b[0m (unbuilt) │\n",
              "├──────────────────────────────────────┼─────────────────────────────┼─────────────────┤\n",
              "│ lambda (\u001b[38;5;33mLambda\u001b[0m)                      │ ?                           │     \u001b[38;5;34m0\u001b[0m (unbuilt) │\n",
              "├──────────────────────────────────────┼─────────────────────────────┼─────────────────┤\n",
              "│ dense (\u001b[38;5;33mDense\u001b[0m)                        │ ?                           │     \u001b[38;5;34m0\u001b[0m (unbuilt) │\n",
              "└──────────────────────────────────────┴─────────────────────────────┴─────────────────┘\n"
            ],
            "text/html": [
              "<pre style=\"white-space:pre;overflow-x:auto;line-height:normal;font-family:Menlo,'DejaVu Sans Mono',consolas,'Courier New',monospace\">┏━━━━━━━━━━━━━━━━━━━━━━━━━━━━━━━━━━━━━━┳━━━━━━━━━━━━━━━━━━━━━━━━━━━━━┳━━━━━━━━━━━━━━━━━┓\n",
              "┃<span style=\"font-weight: bold\"> Layer (type)                         </span>┃<span style=\"font-weight: bold\"> Output Shape                </span>┃<span style=\"font-weight: bold\">         Param # </span>┃\n",
              "┡━━━━━━━━━━━━━━━━━━━━━━━━━━━━━━━━━━━━━━╇━━━━━━━━━━━━━━━━━━━━━━━━━━━━━╇━━━━━━━━━━━━━━━━━┩\n",
              "│ embedding (<span style=\"color: #0087ff; text-decoration-color: #0087ff\">Embedding</span>)                │ ?                           │     <span style=\"color: #00af00; text-decoration-color: #00af00\">0</span> (unbuilt) │\n",
              "├──────────────────────────────────────┼─────────────────────────────┼─────────────────┤\n",
              "│ lambda (<span style=\"color: #0087ff; text-decoration-color: #0087ff\">Lambda</span>)                      │ ?                           │     <span style=\"color: #00af00; text-decoration-color: #00af00\">0</span> (unbuilt) │\n",
              "├──────────────────────────────────────┼─────────────────────────────┼─────────────────┤\n",
              "│ dense (<span style=\"color: #0087ff; text-decoration-color: #0087ff\">Dense</span>)                        │ ?                           │     <span style=\"color: #00af00; text-decoration-color: #00af00\">0</span> (unbuilt) │\n",
              "└──────────────────────────────────────┴─────────────────────────────┴─────────────────┘\n",
              "</pre>\n"
            ]
          },
          "metadata": {}
        },
        {
          "output_type": "display_data",
          "data": {
            "text/plain": [
              "\u001b[1m Total params: \u001b[0m\u001b[38;5;34m0\u001b[0m (0.00 B)\n"
            ],
            "text/html": [
              "<pre style=\"white-space:pre;overflow-x:auto;line-height:normal;font-family:Menlo,'DejaVu Sans Mono',consolas,'Courier New',monospace\"><span style=\"font-weight: bold\"> Total params: </span><span style=\"color: #00af00; text-decoration-color: #00af00\">0</span> (0.00 B)\n",
              "</pre>\n"
            ]
          },
          "metadata": {}
        },
        {
          "output_type": "display_data",
          "data": {
            "text/plain": [
              "\u001b[1m Trainable params: \u001b[0m\u001b[38;5;34m0\u001b[0m (0.00 B)\n"
            ],
            "text/html": [
              "<pre style=\"white-space:pre;overflow-x:auto;line-height:normal;font-family:Menlo,'DejaVu Sans Mono',consolas,'Courier New',monospace\"><span style=\"font-weight: bold\"> Trainable params: </span><span style=\"color: #00af00; text-decoration-color: #00af00\">0</span> (0.00 B)\n",
              "</pre>\n"
            ]
          },
          "metadata": {}
        },
        {
          "output_type": "display_data",
          "data": {
            "text/plain": [
              "\u001b[1m Non-trainable params: \u001b[0m\u001b[38;5;34m0\u001b[0m (0.00 B)\n"
            ],
            "text/html": [
              "<pre style=\"white-space:pre;overflow-x:auto;line-height:normal;font-family:Menlo,'DejaVu Sans Mono',consolas,'Courier New',monospace\"><span style=\"font-weight: bold\"> Non-trainable params: </span><span style=\"color: #00af00; text-decoration-color: #00af00\">0</span> (0.00 B)\n",
              "</pre>\n"
            ]
          },
          "metadata": {}
        },
        {
          "output_type": "stream",
          "name": "stdout",
          "text": [
            "Epoch 1/100\n",
            "1/1 - 1s - 1s/step - accuracy: 0.0000e+00 - loss: 2.8923\n",
            "Epoch 2/100\n",
            "1/1 - 0s - 182ms/step - accuracy: 0.1111 - loss: 2.8857\n",
            "Epoch 3/100\n",
            "1/1 - 0s - 62ms/step - accuracy: 0.1111 - loss: 2.8791\n",
            "Epoch 4/100\n",
            "1/1 - 0s - 51ms/step - accuracy: 0.1111 - loss: 2.8725\n",
            "Epoch 5/100\n",
            "1/1 - 0s - 45ms/step - accuracy: 0.2222 - loss: 2.8659\n",
            "Epoch 6/100\n",
            "1/1 - 0s - 61ms/step - accuracy: 0.2222 - loss: 2.8593\n",
            "Epoch 7/100\n",
            "1/1 - 0s - 46ms/step - accuracy: 0.3333 - loss: 2.8526\n",
            "Epoch 8/100\n",
            "1/1 - 0s - 56ms/step - accuracy: 0.4444 - loss: 2.8460\n",
            "Epoch 9/100\n",
            "1/1 - 0s - 59ms/step - accuracy: 0.4444 - loss: 2.8393\n",
            "Epoch 10/100\n",
            "1/1 - 0s - 46ms/step - accuracy: 0.5556 - loss: 2.8326\n",
            "Epoch 11/100\n",
            "1/1 - 0s - 57ms/step - accuracy: 0.5556 - loss: 2.8259\n",
            "Epoch 12/100\n",
            "1/1 - 0s - 46ms/step - accuracy: 0.5556 - loss: 2.8191\n",
            "Epoch 13/100\n",
            "1/1 - 0s - 60ms/step - accuracy: 0.5556 - loss: 2.8123\n",
            "Epoch 14/100\n",
            "1/1 - 0s - 128ms/step - accuracy: 0.5556 - loss: 2.8054\n",
            "Epoch 15/100\n",
            "1/1 - 0s - 57ms/step - accuracy: 0.6667 - loss: 2.7986\n",
            "Epoch 16/100\n",
            "1/1 - 0s - 57ms/step - accuracy: 0.6667 - loss: 2.7916\n",
            "Epoch 17/100\n",
            "1/1 - 0s - 43ms/step - accuracy: 0.6667 - loss: 2.7846\n",
            "Epoch 18/100\n",
            "1/1 - 0s - 57ms/step - accuracy: 1.0000 - loss: 2.7775\n",
            "Epoch 19/100\n",
            "1/1 - 0s - 48ms/step - accuracy: 1.0000 - loss: 2.7704\n",
            "Epoch 20/100\n",
            "1/1 - 0s - 59ms/step - accuracy: 1.0000 - loss: 2.7632\n",
            "Epoch 21/100\n",
            "1/1 - 0s - 43ms/step - accuracy: 1.0000 - loss: 2.7560\n",
            "Epoch 22/100\n",
            "1/1 - 0s - 59ms/step - accuracy: 1.0000 - loss: 2.7486\n",
            "Epoch 23/100\n",
            "1/1 - 0s - 57ms/step - accuracy: 1.0000 - loss: 2.7412\n",
            "Epoch 24/100\n",
            "1/1 - 0s - 43ms/step - accuracy: 1.0000 - loss: 2.7337\n",
            "Epoch 25/100\n",
            "1/1 - 0s - 58ms/step - accuracy: 1.0000 - loss: 2.7261\n",
            "Epoch 26/100\n",
            "1/1 - 0s - 57ms/step - accuracy: 1.0000 - loss: 2.7185\n",
            "Epoch 27/100\n",
            "1/1 - 0s - 58ms/step - accuracy: 1.0000 - loss: 2.7107\n",
            "Epoch 28/100\n",
            "1/1 - 0s - 64ms/step - accuracy: 1.0000 - loss: 2.7029\n",
            "Epoch 29/100\n",
            "1/1 - 0s - 54ms/step - accuracy: 1.0000 - loss: 2.6949\n",
            "Epoch 30/100\n",
            "1/1 - 0s - 57ms/step - accuracy: 1.0000 - loss: 2.6869\n",
            "Epoch 31/100\n",
            "1/1 - 0s - 56ms/step - accuracy: 1.0000 - loss: 2.6788\n",
            "Epoch 32/100\n",
            "1/1 - 0s - 52ms/step - accuracy: 1.0000 - loss: 2.6705\n",
            "Epoch 33/100\n",
            "1/1 - 0s - 56ms/step - accuracy: 1.0000 - loss: 2.6622\n",
            "Epoch 34/100\n",
            "1/1 - 0s - 58ms/step - accuracy: 1.0000 - loss: 2.6537\n",
            "Epoch 35/100\n",
            "1/1 - 0s - 60ms/step - accuracy: 1.0000 - loss: 2.6452\n",
            "Epoch 36/100\n",
            "1/1 - 0s - 55ms/step - accuracy: 1.0000 - loss: 2.6365\n",
            "Epoch 37/100\n",
            "1/1 - 0s - 54ms/step - accuracy: 1.0000 - loss: 2.6277\n",
            "Epoch 38/100\n",
            "1/1 - 0s - 44ms/step - accuracy: 1.0000 - loss: 2.6188\n",
            "Epoch 39/100\n",
            "1/1 - 0s - 45ms/step - accuracy: 1.0000 - loss: 2.6098\n",
            "Epoch 40/100\n",
            "1/1 - 0s - 59ms/step - accuracy: 1.0000 - loss: 2.6007\n",
            "Epoch 41/100\n",
            "1/1 - 0s - 45ms/step - accuracy: 1.0000 - loss: 2.5915\n",
            "Epoch 42/100\n",
            "1/1 - 0s - 45ms/step - accuracy: 1.0000 - loss: 2.5821\n",
            "Epoch 43/100\n",
            "1/1 - 0s - 58ms/step - accuracy: 1.0000 - loss: 2.5727\n",
            "Epoch 44/100\n",
            "1/1 - 0s - 58ms/step - accuracy: 1.0000 - loss: 2.5631\n",
            "Epoch 45/100\n",
            "1/1 - 0s - 48ms/step - accuracy: 1.0000 - loss: 2.5534\n",
            "Epoch 46/100\n",
            "1/1 - 0s - 61ms/step - accuracy: 1.0000 - loss: 2.5435\n",
            "Epoch 47/100\n",
            "1/1 - 0s - 61ms/step - accuracy: 1.0000 - loss: 2.5336\n",
            "Epoch 48/100\n",
            "1/1 - 0s - 53ms/step - accuracy: 1.0000 - loss: 2.5235\n",
            "Epoch 49/100\n",
            "1/1 - 0s - 56ms/step - accuracy: 1.0000 - loss: 2.5134\n",
            "Epoch 50/100\n",
            "1/1 - 0s - 57ms/step - accuracy: 1.0000 - loss: 2.5031\n",
            "Epoch 51/100\n",
            "1/1 - 0s - 45ms/step - accuracy: 1.0000 - loss: 2.4926\n",
            "Epoch 52/100\n",
            "1/1 - 0s - 57ms/step - accuracy: 1.0000 - loss: 2.4821\n",
            "Epoch 53/100\n",
            "1/1 - 0s - 45ms/step - accuracy: 1.0000 - loss: 2.4714\n",
            "Epoch 54/100\n",
            "1/1 - 0s - 52ms/step - accuracy: 1.0000 - loss: 2.4607\n",
            "Epoch 55/100\n",
            "1/1 - 0s - 53ms/step - accuracy: 1.0000 - loss: 2.4498\n",
            "Epoch 56/100\n",
            "1/1 - 0s - 42ms/step - accuracy: 1.0000 - loss: 2.4388\n",
            "Epoch 57/100\n",
            "1/1 - 0s - 59ms/step - accuracy: 1.0000 - loss: 2.4276\n",
            "Epoch 58/100\n",
            "1/1 - 0s - 42ms/step - accuracy: 1.0000 - loss: 2.4164\n",
            "Epoch 59/100\n",
            "1/1 - 0s - 58ms/step - accuracy: 1.0000 - loss: 2.4050\n",
            "Epoch 60/100\n",
            "1/1 - 0s - 56ms/step - accuracy: 1.0000 - loss: 2.3936\n",
            "Epoch 61/100\n",
            "1/1 - 0s - 48ms/step - accuracy: 1.0000 - loss: 2.3820\n",
            "Epoch 62/100\n",
            "1/1 - 0s - 59ms/step - accuracy: 1.0000 - loss: 2.3703\n",
            "Epoch 63/100\n",
            "1/1 - 0s - 59ms/step - accuracy: 1.0000 - loss: 2.3585\n",
            "Epoch 64/100\n",
            "1/1 - 0s - 57ms/step - accuracy: 1.0000 - loss: 2.3466\n",
            "Epoch 65/100\n",
            "1/1 - 0s - 50ms/step - accuracy: 1.0000 - loss: 2.3346\n",
            "Epoch 66/100\n",
            "1/1 - 0s - 46ms/step - accuracy: 1.0000 - loss: 2.3225\n",
            "Epoch 67/100\n",
            "1/1 - 0s - 58ms/step - accuracy: 1.0000 - loss: 2.3103\n",
            "Epoch 68/100\n",
            "1/1 - 0s - 55ms/step - accuracy: 1.0000 - loss: 2.2979\n",
            "Epoch 69/100\n",
            "1/1 - 0s - 57ms/step - accuracy: 1.0000 - loss: 2.2855\n",
            "Epoch 70/100\n",
            "1/1 - 0s - 55ms/step - accuracy: 1.0000 - loss: 2.2730\n",
            "Epoch 71/100\n",
            "1/1 - 0s - 45ms/step - accuracy: 1.0000 - loss: 2.2604\n",
            "Epoch 72/100\n",
            "1/1 - 0s - 54ms/step - accuracy: 1.0000 - loss: 2.2477\n",
            "Epoch 73/100\n",
            "1/1 - 0s - 48ms/step - accuracy: 1.0000 - loss: 2.2349\n",
            "Epoch 74/100\n",
            "1/1 - 0s - 59ms/step - accuracy: 1.0000 - loss: 2.2220\n",
            "Epoch 75/100\n",
            "1/1 - 0s - 53ms/step - accuracy: 1.0000 - loss: 2.2091\n",
            "Epoch 76/100\n",
            "1/1 - 0s - 46ms/step - accuracy: 1.0000 - loss: 2.1960\n",
            "Epoch 77/100\n",
            "1/1 - 0s - 59ms/step - accuracy: 1.0000 - loss: 2.1829\n",
            "Epoch 78/100\n",
            "1/1 - 0s - 58ms/step - accuracy: 1.0000 - loss: 2.1697\n",
            "Epoch 79/100\n",
            "1/1 - 0s - 51ms/step - accuracy: 1.0000 - loss: 2.1565\n",
            "Epoch 80/100\n",
            "1/1 - 0s - 58ms/step - accuracy: 1.0000 - loss: 2.1432\n",
            "Epoch 81/100\n",
            "1/1 - 0s - 56ms/step - accuracy: 1.0000 - loss: 2.1298\n",
            "Epoch 82/100\n",
            "1/1 - 0s - 131ms/step - accuracy: 1.0000 - loss: 2.1163\n",
            "Epoch 83/100\n",
            "1/1 - 0s - 57ms/step - accuracy: 1.0000 - loss: 2.1028\n",
            "Epoch 84/100\n",
            "1/1 - 0s - 58ms/step - accuracy: 1.0000 - loss: 2.0892\n",
            "Epoch 85/100\n",
            "1/1 - 0s - 60ms/step - accuracy: 1.0000 - loss: 2.0756\n",
            "Epoch 86/100\n",
            "1/1 - 0s - 46ms/step - accuracy: 1.0000 - loss: 2.0619\n",
            "Epoch 87/100\n",
            "1/1 - 0s - 44ms/step - accuracy: 1.0000 - loss: 2.0482\n",
            "Epoch 88/100\n",
            "1/1 - 0s - 60ms/step - accuracy: 1.0000 - loss: 2.0344\n",
            "Epoch 89/100\n",
            "1/1 - 0s - 47ms/step - accuracy: 1.0000 - loss: 2.0206\n",
            "Epoch 90/100\n",
            "1/1 - 0s - 47ms/step - accuracy: 1.0000 - loss: 2.0068\n",
            "Epoch 91/100\n",
            "1/1 - 0s - 43ms/step - accuracy: 1.0000 - loss: 1.9929\n",
            "Epoch 92/100\n",
            "1/1 - 0s - 59ms/step - accuracy: 1.0000 - loss: 1.9791\n",
            "Epoch 93/100\n",
            "1/1 - 0s - 57ms/step - accuracy: 1.0000 - loss: 1.9652\n",
            "Epoch 94/100\n",
            "1/1 - 0s - 44ms/step - accuracy: 1.0000 - loss: 1.9512\n",
            "Epoch 95/100\n",
            "1/1 - 0s - 64ms/step - accuracy: 1.0000 - loss: 1.9373\n",
            "Epoch 96/100\n",
            "1/1 - 0s - 57ms/step - accuracy: 1.0000 - loss: 1.9233\n",
            "Epoch 97/100\n",
            "1/1 - 0s - 66ms/step - accuracy: 1.0000 - loss: 1.9094\n",
            "Epoch 98/100\n",
            "1/1 - 0s - 51ms/step - accuracy: 1.0000 - loss: 1.8954\n",
            "Epoch 99/100\n",
            "1/1 - 0s - 59ms/step - accuracy: 1.0000 - loss: 1.8814\n",
            "Epoch 100/100\n",
            "1/1 - 0s - 58ms/step - accuracy: 1.0000 - loss: 1.8674\n",
            "Embedding for 'learning': [-0.09569474 -0.21029049  0.00726416 -0.06933126 -0.05535281 -0.03362934\n",
            "  0.04824052  0.09355855 -0.00284227 -0.15299968  0.01090115 -0.01881258\n",
            " -0.01775679 -0.13247392  0.10279204  0.20049137  0.16120139 -0.1934089\n",
            "  0.0504104   0.09142193 -0.17875388 -0.03407317 -0.09838639  0.19116248\n",
            "  0.05164238 -0.12389583 -0.13022903  0.07122617 -0.1448545   0.04935761\n",
            " -0.13231875  0.1307289   0.20612179  0.20328969  0.03447802  0.20022476\n",
            "  0.00133733  0.10203923 -0.01943379  0.04404197 -0.11783177 -0.00412808\n",
            " -0.1984401   0.15389195 -0.13249701  0.18030126  0.1083566   0.11645789\n",
            "  0.20172504 -0.06149446]\n"
          ]
        }
      ]
    }
  ]
}